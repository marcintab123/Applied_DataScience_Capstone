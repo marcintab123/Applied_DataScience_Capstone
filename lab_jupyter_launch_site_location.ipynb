{
  "cells": [
    {
      "cell_type": "markdown",
      "metadata": {},
      "source": [
        "<p style=\"text-align:center\">\n",
        "    <a href=\"https://skills.network/?utm_medium=Exinfluencer&utm_source=Exinfluencer&utm_content=000026UJ&utm_term=10006555&utm_id=NA-SkillsNetwork-Channel-SkillsNetworkCoursesIBMDS0321ENSkillsNetwork26802033-2022-01-01\" target=\"_blank\">\n",
        "    <img src=\"https://cf-courses-data.s3.us.cloud-object-storage.appdomain.cloud/assets/logos/SN_web_lightmode.png\" width=\"200\" alt=\"Skills Network Logo\">\n",
        "    </a>\n",
        "</p>\n"
      ]
    },
    {
      "cell_type": "markdown",
      "metadata": {},
      "source": [
        "# **Hands-on Lab: Interactive Visual Analytics with Folium**\n"
      ]
    },
    {
      "cell_type": "markdown",
      "metadata": {},
      "source": [
        "Estimated time needed: **40** minutes\n"
      ]
    },
    {
      "cell_type": "markdown",
      "metadata": {},
      "source": [
        "The launch success rate may depend on many factors such as payload mass, orbit type, and so on. It may also depend on the location and proximities of a launch site, i.e., the initial position of rocket trajectories. Finding an optimal location for building a launch site certainly involves many factors and hopefully we could discover some of the factors by analyzing the existing launch site locations.\n"
      ]
    },
    {
      "cell_type": "markdown",
      "metadata": {},
      "source": [
        "In the previous exploratory data analysis labs, you have visualized the SpaceX launch dataset using `matplotlib` and `seaborn` and discovered some preliminary correlations between the launch site and success rates. In this lab, you will be performing more interactive visual analytics using `Folium`.\n"
      ]
    },
    {
      "cell_type": "markdown",
      "metadata": {},
      "source": [
        "## Objectives\n"
      ]
    },
    {
      "cell_type": "markdown",
      "metadata": {},
      "source": [
        "This lab contains the following tasks:\n",
        "\n",
        "*   **TASK 1:** Mark all launch sites on a map\n",
        "*   **TASK 2:** Mark the success/failed launches for each site on the map\n",
        "*   **TASK 3:** Calculate the distances between a launch site to its proximities\n",
        "\n",
        "After completed the above tasks, you should be able to find some geographical patterns about launch sites.\n"
      ]
    },
    {
      "cell_type": "markdown",
      "metadata": {},
      "source": [
        "Let's first import required Python packages for this lab:\n"
      ]
    },
    {
      "cell_type": "code",
      "execution_count": null,
      "metadata": {
        "trusted": true
      },
      "outputs": [],
      "source": []
    },
    {
      "cell_type": "code",
      "execution_count": 3,
      "metadata": {
        "trusted": true
      },
      "outputs": [],
      "source": [
        "import folium\n",
        "import pandas as pd"
      ]
    },
    {
      "cell_type": "code",
      "execution_count": 4,
      "metadata": {
        "trusted": true
      },
      "outputs": [],
      "source": [
        "# Import folium MarkerCluster plugin\n",
        "from folium.plugins import MarkerCluster\n",
        "# Import folium MousePosition plugin\n",
        "from folium.plugins import MousePosition\n",
        "# Import folium DivIcon plugin\n",
        "from folium.features import DivIcon"
      ]
    },
    {
      "cell_type": "markdown",
      "metadata": {},
      "source": [
        "If you need to refresh your memory about folium, you may download and refer to this previous folium lab:\n"
      ]
    },
    {
      "cell_type": "markdown",
      "metadata": {},
      "source": [
        "[Generating Maps with Python](https://cf-courses-data.s3.us.cloud-object-storage.appdomain.cloud/IBMDeveloperSkillsNetwork-DV0101EN-SkillsNetwork/labs/v4/DV0101EN-Exercise-Generating-Maps-in-Python.ipynb)\n"
      ]
    },
    {
      "cell_type": "code",
      "execution_count": 7,
      "metadata": {
        "trusted": true
      },
      "outputs": [
        {
          "name": "stdout",
          "output_type": "stream",
          "text": [
            "test\n"
          ]
        }
      ],
      "source": [
        "## Task 1: Mark all launch sites on a map\n"
      ]
    },
    {
      "cell_type": "markdown",
      "metadata": {},
      "source": [
        "First, let's try to add each site's location on a map using site's latitude and longitude coordinates\n"
      ]
    },
    {
      "cell_type": "markdown",
      "metadata": {},
      "source": [
        "The following dataset with the name `spacex_launch_geo.csv` is an augmented dataset with latitude and longitude added for each site.\n"
      ]
    },
    {
      "cell_type": "code",
      "execution_count": 7,
      "metadata": {
        "trusted": true
      },
      "outputs": [
        {
          "data": {
            "text/html": [
              "<div>\n",
              "<style scoped>\n",
              "    .dataframe tbody tr th:only-of-type {\n",
              "        vertical-align: middle;\n",
              "    }\n",
              "\n",
              "    .dataframe tbody tr th {\n",
              "        vertical-align: top;\n",
              "    }\n",
              "\n",
              "    .dataframe thead th {\n",
              "        text-align: right;\n",
              "    }\n",
              "</style>\n",
              "<table border=\"1\" class=\"dataframe\">\n",
              "  <thead>\n",
              "    <tr style=\"text-align: right;\">\n",
              "      <th></th>\n",
              "      <th>Flight Number</th>\n",
              "      <th>Date</th>\n",
              "      <th>Time (UTC)</th>\n",
              "      <th>Booster Version</th>\n",
              "      <th>Launch Site</th>\n",
              "      <th>Payload</th>\n",
              "      <th>Payload Mass (kg)</th>\n",
              "      <th>Orbit</th>\n",
              "      <th>Customer</th>\n",
              "      <th>Landing Outcome</th>\n",
              "      <th>class</th>\n",
              "      <th>Lat</th>\n",
              "      <th>Long</th>\n",
              "    </tr>\n",
              "  </thead>\n",
              "  <tbody>\n",
              "    <tr>\n",
              "      <th>0</th>\n",
              "      <td>1</td>\n",
              "      <td>2010-06-04</td>\n",
              "      <td>18:45:00</td>\n",
              "      <td>F9 v1.0  B0003</td>\n",
              "      <td>CCAFS LC-40</td>\n",
              "      <td>Dragon Spacecraft Qualification Unit</td>\n",
              "      <td>0.0</td>\n",
              "      <td>LEO</td>\n",
              "      <td>SpaceX</td>\n",
              "      <td>Failure   (parachute)</td>\n",
              "      <td>0</td>\n",
              "      <td>28.562302</td>\n",
              "      <td>-80.577356</td>\n",
              "    </tr>\n",
              "    <tr>\n",
              "      <th>1</th>\n",
              "      <td>2</td>\n",
              "      <td>2010-12-08</td>\n",
              "      <td>15:43:00</td>\n",
              "      <td>F9 v1.0  B0004</td>\n",
              "      <td>CCAFS LC-40</td>\n",
              "      <td>Dragon demo flight C1, two CubeSats,  barrel o...</td>\n",
              "      <td>0.0</td>\n",
              "      <td>LEO (ISS)</td>\n",
              "      <td>NASA (COTS) NRO</td>\n",
              "      <td>Failure   (parachute)</td>\n",
              "      <td>0</td>\n",
              "      <td>28.562302</td>\n",
              "      <td>-80.577356</td>\n",
              "    </tr>\n",
              "    <tr>\n",
              "      <th>2</th>\n",
              "      <td>3</td>\n",
              "      <td>2012-05-22</td>\n",
              "      <td>7:44:00</td>\n",
              "      <td>F9 v1.0  B0005</td>\n",
              "      <td>CCAFS LC-40</td>\n",
              "      <td>Dragon demo flight C2+</td>\n",
              "      <td>525.0</td>\n",
              "      <td>LEO (ISS)</td>\n",
              "      <td>NASA (COTS)</td>\n",
              "      <td>No attempt</td>\n",
              "      <td>0</td>\n",
              "      <td>28.562302</td>\n",
              "      <td>-80.577356</td>\n",
              "    </tr>\n",
              "    <tr>\n",
              "      <th>3</th>\n",
              "      <td>4</td>\n",
              "      <td>2012-10-08</td>\n",
              "      <td>0:35:00</td>\n",
              "      <td>F9 v1.0  B0006</td>\n",
              "      <td>CCAFS LC-40</td>\n",
              "      <td>SpaceX CRS-1</td>\n",
              "      <td>500.0</td>\n",
              "      <td>LEO (ISS)</td>\n",
              "      <td>NASA (CRS)</td>\n",
              "      <td>No attempt</td>\n",
              "      <td>0</td>\n",
              "      <td>28.562302</td>\n",
              "      <td>-80.577356</td>\n",
              "    </tr>\n",
              "    <tr>\n",
              "      <th>4</th>\n",
              "      <td>5</td>\n",
              "      <td>2013-03-01</td>\n",
              "      <td>15:10:00</td>\n",
              "      <td>F9 v1.0  B0007</td>\n",
              "      <td>CCAFS LC-40</td>\n",
              "      <td>SpaceX CRS-2</td>\n",
              "      <td>677.0</td>\n",
              "      <td>LEO (ISS)</td>\n",
              "      <td>NASA (CRS)</td>\n",
              "      <td>No attempt</td>\n",
              "      <td>0</td>\n",
              "      <td>28.562302</td>\n",
              "      <td>-80.577356</td>\n",
              "    </tr>\n",
              "    <tr>\n",
              "      <th>5</th>\n",
              "      <td>7</td>\n",
              "      <td>2013-12-03</td>\n",
              "      <td>22:41:00</td>\n",
              "      <td>F9 v1.1</td>\n",
              "      <td>CCAFS LC-40</td>\n",
              "      <td>SES-8</td>\n",
              "      <td>3170.0</td>\n",
              "      <td>GTO</td>\n",
              "      <td>SES</td>\n",
              "      <td>No attempt</td>\n",
              "      <td>0</td>\n",
              "      <td>28.562302</td>\n",
              "      <td>-80.577356</td>\n",
              "    </tr>\n",
              "    <tr>\n",
              "      <th>6</th>\n",
              "      <td>8</td>\n",
              "      <td>2014-01-06</td>\n",
              "      <td>22:06:00</td>\n",
              "      <td>F9 v1.1</td>\n",
              "      <td>CCAFS LC-40</td>\n",
              "      <td>Thaicom 6</td>\n",
              "      <td>3325.0</td>\n",
              "      <td>GTO</td>\n",
              "      <td>Thaicom</td>\n",
              "      <td>No attempt</td>\n",
              "      <td>0</td>\n",
              "      <td>28.562302</td>\n",
              "      <td>-80.577356</td>\n",
              "    </tr>\n",
              "    <tr>\n",
              "      <th>7</th>\n",
              "      <td>9</td>\n",
              "      <td>2014-04-18</td>\n",
              "      <td>19:25:00</td>\n",
              "      <td>F9 v1.1</td>\n",
              "      <td>CCAFS LC-40</td>\n",
              "      <td>SpaceX CRS-3</td>\n",
              "      <td>2296.0</td>\n",
              "      <td>LEO (ISS)</td>\n",
              "      <td>NASA (CRS)</td>\n",
              "      <td>Controlled (ocean)</td>\n",
              "      <td>0</td>\n",
              "      <td>28.562302</td>\n",
              "      <td>-80.577356</td>\n",
              "    </tr>\n",
              "    <tr>\n",
              "      <th>8</th>\n",
              "      <td>10</td>\n",
              "      <td>2014-07-14</td>\n",
              "      <td>15:15:00</td>\n",
              "      <td>F9 v1.1</td>\n",
              "      <td>CCAFS LC-40</td>\n",
              "      <td>OG2 Mission 1  6 Orbcomm-OG2 satellites</td>\n",
              "      <td>1316.0</td>\n",
              "      <td>LEO</td>\n",
              "      <td>Orbcomm</td>\n",
              "      <td>Controlled (ocean)</td>\n",
              "      <td>0</td>\n",
              "      <td>28.562302</td>\n",
              "      <td>-80.577356</td>\n",
              "    </tr>\n",
              "    <tr>\n",
              "      <th>9</th>\n",
              "      <td>11</td>\n",
              "      <td>2014-08-05</td>\n",
              "      <td>8:00:00</td>\n",
              "      <td>F9 v1.1</td>\n",
              "      <td>CCAFS LC-40</td>\n",
              "      <td>AsiaSat 8</td>\n",
              "      <td>4535.0</td>\n",
              "      <td>GTO</td>\n",
              "      <td>AsiaSat</td>\n",
              "      <td>No attempt</td>\n",
              "      <td>0</td>\n",
              "      <td>28.562302</td>\n",
              "      <td>-80.577356</td>\n",
              "    </tr>\n",
              "    <tr>\n",
              "      <th>10</th>\n",
              "      <td>12</td>\n",
              "      <td>2014-09-07</td>\n",
              "      <td>5:00:00</td>\n",
              "      <td>F9 v1.1 B1011</td>\n",
              "      <td>CCAFS LC-40</td>\n",
              "      <td>AsiaSat 6</td>\n",
              "      <td>4428.0</td>\n",
              "      <td>GTO</td>\n",
              "      <td>AsiaSat</td>\n",
              "      <td>No attempt</td>\n",
              "      <td>0</td>\n",
              "      <td>28.562302</td>\n",
              "      <td>-80.577356</td>\n",
              "    </tr>\n",
              "    <tr>\n",
              "      <th>11</th>\n",
              "      <td>13</td>\n",
              "      <td>2014-09-21</td>\n",
              "      <td>5:52:00</td>\n",
              "      <td>F9 v1.1 B1010</td>\n",
              "      <td>CCAFS LC-40</td>\n",
              "      <td>SpaceX CRS-4</td>\n",
              "      <td>2216.0</td>\n",
              "      <td>LEO (ISS)</td>\n",
              "      <td>NASA (CRS)</td>\n",
              "      <td>Uncontrolled (ocean)</td>\n",
              "      <td>0</td>\n",
              "      <td>28.562302</td>\n",
              "      <td>-80.577356</td>\n",
              "    </tr>\n",
              "    <tr>\n",
              "      <th>12</th>\n",
              "      <td>14</td>\n",
              "      <td>2015-01-10</td>\n",
              "      <td>9:47:00</td>\n",
              "      <td>F9 v1.1 B1012</td>\n",
              "      <td>CCAFS LC-40</td>\n",
              "      <td>SpaceX CRS-5</td>\n",
              "      <td>2395.0</td>\n",
              "      <td>LEO (ISS)</td>\n",
              "      <td>NASA (CRS)</td>\n",
              "      <td>Failure  (drone ship)</td>\n",
              "      <td>0</td>\n",
              "      <td>28.562302</td>\n",
              "      <td>-80.577356</td>\n",
              "    </tr>\n",
              "    <tr>\n",
              "      <th>13</th>\n",
              "      <td>15</td>\n",
              "      <td>2015-02-11</td>\n",
              "      <td>23:03:00</td>\n",
              "      <td>F9 v1.1 B1013</td>\n",
              "      <td>CCAFS LC-40</td>\n",
              "      <td>DSCOVR</td>\n",
              "      <td>570.0</td>\n",
              "      <td>Sun–Earth L1</td>\n",
              "      <td>U.S. Air Force NASA NOAA</td>\n",
              "      <td>Controlled (ocean)</td>\n",
              "      <td>0</td>\n",
              "      <td>28.562302</td>\n",
              "      <td>-80.577356</td>\n",
              "    </tr>\n",
              "    <tr>\n",
              "      <th>14</th>\n",
              "      <td>16</td>\n",
              "      <td>2015-03-02</td>\n",
              "      <td>3:50:00</td>\n",
              "      <td>F9 v1.1 B1014</td>\n",
              "      <td>CCAFS LC-40</td>\n",
              "      <td>ABS-3A Eutelsat 115 West B</td>\n",
              "      <td>4159.0</td>\n",
              "      <td>GTO</td>\n",
              "      <td>ABS Eutelsat</td>\n",
              "      <td>No attempt</td>\n",
              "      <td>0</td>\n",
              "      <td>28.562302</td>\n",
              "      <td>-80.577356</td>\n",
              "    </tr>\n",
              "  </tbody>\n",
              "</table>\n",
              "</div>"
            ],
            "text/plain": [
              "    Flight Number        Date Time (UTC) Booster Version  Launch Site  \\\n",
              "0               1  2010-06-04   18:45:00  F9 v1.0  B0003  CCAFS LC-40   \n",
              "1               2  2010-12-08   15:43:00  F9 v1.0  B0004  CCAFS LC-40   \n",
              "2               3  2012-05-22    7:44:00  F9 v1.0  B0005  CCAFS LC-40   \n",
              "3               4  2012-10-08    0:35:00  F9 v1.0  B0006  CCAFS LC-40   \n",
              "4               5  2013-03-01   15:10:00  F9 v1.0  B0007  CCAFS LC-40   \n",
              "5               7  2013-12-03   22:41:00         F9 v1.1  CCAFS LC-40   \n",
              "6               8  2014-01-06   22:06:00         F9 v1.1  CCAFS LC-40   \n",
              "7               9  2014-04-18   19:25:00         F9 v1.1  CCAFS LC-40   \n",
              "8              10  2014-07-14   15:15:00         F9 v1.1  CCAFS LC-40   \n",
              "9              11  2014-08-05    8:00:00         F9 v1.1  CCAFS LC-40   \n",
              "10             12  2014-09-07    5:00:00   F9 v1.1 B1011  CCAFS LC-40   \n",
              "11             13  2014-09-21    5:52:00   F9 v1.1 B1010  CCAFS LC-40   \n",
              "12             14  2015-01-10    9:47:00   F9 v1.1 B1012  CCAFS LC-40   \n",
              "13             15  2015-02-11   23:03:00   F9 v1.1 B1013  CCAFS LC-40   \n",
              "14             16  2015-03-02    3:50:00   F9 v1.1 B1014  CCAFS LC-40   \n",
              "\n",
              "                                              Payload  Payload Mass (kg)  \\\n",
              "0                Dragon Spacecraft Qualification Unit                0.0   \n",
              "1   Dragon demo flight C1, two CubeSats,  barrel o...                0.0   \n",
              "2                              Dragon demo flight C2+              525.0   \n",
              "3                                        SpaceX CRS-1              500.0   \n",
              "4                                        SpaceX CRS-2              677.0   \n",
              "5                                               SES-8             3170.0   \n",
              "6                                           Thaicom 6             3325.0   \n",
              "7                                        SpaceX CRS-3             2296.0   \n",
              "8             OG2 Mission 1  6 Orbcomm-OG2 satellites             1316.0   \n",
              "9                                           AsiaSat 8             4535.0   \n",
              "10                                          AsiaSat 6             4428.0   \n",
              "11                                       SpaceX CRS-4             2216.0   \n",
              "12                                       SpaceX CRS-5             2395.0   \n",
              "13                                             DSCOVR              570.0   \n",
              "14                         ABS-3A Eutelsat 115 West B             4159.0   \n",
              "\n",
              "           Orbit                  Customer        Landing Outcome  class  \\\n",
              "0            LEO                    SpaceX  Failure   (parachute)      0   \n",
              "1      LEO (ISS)           NASA (COTS) NRO  Failure   (parachute)      0   \n",
              "2      LEO (ISS)               NASA (COTS)             No attempt      0   \n",
              "3      LEO (ISS)                NASA (CRS)             No attempt      0   \n",
              "4      LEO (ISS)                NASA (CRS)             No attempt      0   \n",
              "5            GTO                       SES             No attempt      0   \n",
              "6            GTO                   Thaicom             No attempt      0   \n",
              "7      LEO (ISS)                NASA (CRS)     Controlled (ocean)      0   \n",
              "8            LEO                   Orbcomm     Controlled (ocean)      0   \n",
              "9            GTO                   AsiaSat             No attempt      0   \n",
              "10           GTO                   AsiaSat             No attempt      0   \n",
              "11     LEO (ISS)                NASA (CRS)   Uncontrolled (ocean)      0   \n",
              "12     LEO (ISS)                NASA (CRS)  Failure  (drone ship)      0   \n",
              "13  Sun–Earth L1  U.S. Air Force NASA NOAA     Controlled (ocean)      0   \n",
              "14           GTO              ABS Eutelsat             No attempt      0   \n",
              "\n",
              "          Lat       Long  \n",
              "0   28.562302 -80.577356  \n",
              "1   28.562302 -80.577356  \n",
              "2   28.562302 -80.577356  \n",
              "3   28.562302 -80.577356  \n",
              "4   28.562302 -80.577356  \n",
              "5   28.562302 -80.577356  \n",
              "6   28.562302 -80.577356  \n",
              "7   28.562302 -80.577356  \n",
              "8   28.562302 -80.577356  \n",
              "9   28.562302 -80.577356  \n",
              "10  28.562302 -80.577356  \n",
              "11  28.562302 -80.577356  \n",
              "12  28.562302 -80.577356  \n",
              "13  28.562302 -80.577356  \n",
              "14  28.562302 -80.577356  "
            ]
          },
          "execution_count": 7,
          "metadata": {},
          "output_type": "execute_result"
        }
      ],
      "source": [
        "# Download and read the `spacex_launch_geo.csv`\n",
        "#from js import fetch\n",
        "#import io\n",
        "\n",
        "URL = 'https://cf-courses-data.s3.us.cloud-object-storage.appdomain.cloud/IBM-DS0321EN-SkillsNetwork/datasets/spacex_launch_geo.csv'\n",
        "#resp = await fetch(URL)\n",
        "#spacex_csv_file = io.BytesIO((await resp.arrayBuffer()).to_py())\n",
        "spacex_df=pd.read_csv(URL)\n",
        "spacex_df.head(15)"
      ]
    },
    {
      "cell_type": "markdown",
      "metadata": {},
      "source": [
        "Now, you can take a look at what are the coordinates for each site.\n"
      ]
    },
    {
      "cell_type": "code",
      "execution_count": 8,
      "metadata": {
        "trusted": true
      },
      "outputs": [
        {
          "data": {
            "text/html": [
              "<div>\n",
              "<style scoped>\n",
              "    .dataframe tbody tr th:only-of-type {\n",
              "        vertical-align: middle;\n",
              "    }\n",
              "\n",
              "    .dataframe tbody tr th {\n",
              "        vertical-align: top;\n",
              "    }\n",
              "\n",
              "    .dataframe thead th {\n",
              "        text-align: right;\n",
              "    }\n",
              "</style>\n",
              "<table border=\"1\" class=\"dataframe\">\n",
              "  <thead>\n",
              "    <tr style=\"text-align: right;\">\n",
              "      <th></th>\n",
              "      <th>Launch Site</th>\n",
              "      <th>Lat</th>\n",
              "      <th>Long</th>\n",
              "    </tr>\n",
              "  </thead>\n",
              "  <tbody>\n",
              "    <tr>\n",
              "      <th>0</th>\n",
              "      <td>CCAFS LC-40</td>\n",
              "      <td>28.562302</td>\n",
              "      <td>-80.577356</td>\n",
              "    </tr>\n",
              "    <tr>\n",
              "      <th>1</th>\n",
              "      <td>CCAFS SLC-40</td>\n",
              "      <td>28.563197</td>\n",
              "      <td>-80.576820</td>\n",
              "    </tr>\n",
              "    <tr>\n",
              "      <th>2</th>\n",
              "      <td>KSC LC-39A</td>\n",
              "      <td>28.573255</td>\n",
              "      <td>-80.646895</td>\n",
              "    </tr>\n",
              "    <tr>\n",
              "      <th>3</th>\n",
              "      <td>VAFB SLC-4E</td>\n",
              "      <td>34.632834</td>\n",
              "      <td>-120.610745</td>\n",
              "    </tr>\n",
              "  </tbody>\n",
              "</table>\n",
              "</div>"
            ],
            "text/plain": [
              "    Launch Site        Lat        Long\n",
              "0   CCAFS LC-40  28.562302  -80.577356\n",
              "1  CCAFS SLC-40  28.563197  -80.576820\n",
              "2    KSC LC-39A  28.573255  -80.646895\n",
              "3   VAFB SLC-4E  34.632834 -120.610745"
            ]
          },
          "execution_count": 8,
          "metadata": {},
          "output_type": "execute_result"
        }
      ],
      "source": [
        "# Select relevant sub-columns: `Launch Site`, `Lat(Latitude)`, `Long(Longitude)`, `class`\n",
        "spacex_df = spacex_df[['Launch Site', 'Lat', 'Long', 'class']]\n",
        "launch_sites_df = spacex_df.groupby(['Launch Site'], as_index=False).first()\n",
        "launch_sites_df = launch_sites_df[['Launch Site', 'Lat', 'Long']]\n",
        "launch_sites_df"
      ]
    },
    {
      "cell_type": "markdown",
      "metadata": {},
      "source": [
        "Above coordinates are just plain numbers that can not give you any intuitive insights about where are those launch sites. If you are very good at geography, you can interpret those numbers directly in your mind. If not, that's fine too. Let's visualize those locations by pinning them on a map.\n"
      ]
    },
    {
      "cell_type": "markdown",
      "metadata": {},
      "source": [
        "We first need to create a folium `Map` object, with an initial center location to be NASA Johnson Space Center at Houston, Texas.\n"
      ]
    },
    {
      "cell_type": "code",
      "execution_count": 9,
      "metadata": {
        "trusted": true
      },
      "outputs": [],
      "source": [
        "# Start location is NASA Johnson Space Center\n",
        "nasa_coordinate = [29.559684888503615, -95.0830971930759]\n",
        "site_map = folium.Map(location=nasa_coordinate, zoom_start=10)"
      ]
    },
    {
      "cell_type": "markdown",
      "metadata": {},
      "source": [
        "We could use `folium.Circle` to add a highlighted circle area with a text label on a specific coordinate. For example,\n"
      ]
    },
    {
      "cell_type": "code",
      "execution_count": null,
      "metadata": {
        "scrolled": true,
        "trusted": true
      },
      "outputs": [],
      "source": [
        "# Create a blue circle at NASA Johnson Space Center's coordinate with a popup label showing its name\n",
        "circle = folium.Circle(nasa_coordinate, radius=1000, color='#d35400', fill=True).add_child(folium.Popup('NASA Johnson Space Center'))\n",
        "# Create a blue circle at NASA Johnson Space Center's coordinate with a icon showing its name\n",
        "marker = folium.map.Marker(\n",
        "    nasa_coordinate,\n",
        "    # Create an icon as a text label\n",
        "    icon=DivIcon(\n",
        "        icon_size=(20,20),\n",
        "        icon_anchor=(0,0),\n",
        "        html='<div style=\"font-size: 12; color:#d35400;\"><b>%s</b></div>' % 'NASA JSC',\n",
        "        )\n",
        "    )\n",
        "site_map.add_child(circle)\n",
        "site_map.add_child(marker)"
      ]
    },
    {
      "cell_type": "markdown",
      "metadata": {},
      "source": [
        "and you should find a small yellow circle near the city of Houston and you can zoom-in to see a larger circle.\n"
      ]
    },
    {
      "cell_type": "markdown",
      "metadata": {},
      "source": [
        "Now, let's add a circle for each launch site in data frame `launch_sites`\n"
      ]
    },
    {
      "cell_type": "markdown",
      "metadata": {},
      "source": [
        "*TODO:*  Create and add `folium.Circle` and `folium.Marker` for each launch site on the site map\n"
      ]
    },
    {
      "cell_type": "markdown",
      "metadata": {},
      "source": [
        "An example of folium.Circle:\n"
      ]
    },
    {
      "cell_type": "markdown",
      "metadata": {},
      "source": [
        "`folium.Circle(coordinate, radius=1000, color='#000000', fill=True).add_child(folium.Popup(...))`\n"
      ]
    },
    {
      "cell_type": "markdown",
      "metadata": {},
      "source": [
        "An example of folium.Marker:\n"
      ]
    },
    {
      "cell_type": "markdown",
      "metadata": {},
      "source": [
        "`folium.map.Marker(coordinate, icon=DivIcon(icon_size=(20,20),icon_anchor=(0,0), html='<div style=\"font-size: 12; color:#d35400;\"><b>%s</b></div>' % 'label', ))`\n"
      ]
    },
    {
      "cell_type": "code",
      "execution_count": 19,
      "metadata": {
        "trusted": true
      },
      "outputs": [
        {
          "data": {
            "text/html": [
              "<div style=\"width:100%;\"><div style=\"position:relative;width:100%;height:0;padding-bottom:60%;\"><span style=\"color:#565656\">Make this Notebook Trusted to load map: File -> Trust Notebook</span><iframe srcdoc=\"&lt;!DOCTYPE html&gt;\n",
              "&lt;html&gt;\n",
              "&lt;head&gt;\n",
              "    \n",
              "    &lt;meta http-equiv=&quot;content-type&quot; content=&quot;text/html; charset=UTF-8&quot; /&gt;\n",
              "    &lt;script src=&quot;https://cdn.jsdelivr.net/npm/leaflet@1.9.3/dist/leaflet.js&quot;&gt;&lt;/script&gt;\n",
              "    &lt;script src=&quot;https://code.jquery.com/jquery-3.7.1.min.js&quot;&gt;&lt;/script&gt;\n",
              "    &lt;script src=&quot;https://cdn.jsdelivr.net/npm/bootstrap@5.2.2/dist/js/bootstrap.bundle.min.js&quot;&gt;&lt;/script&gt;\n",
              "    &lt;script src=&quot;https://cdnjs.cloudflare.com/ajax/libs/Leaflet.awesome-markers/2.0.2/leaflet.awesome-markers.js&quot;&gt;&lt;/script&gt;\n",
              "    &lt;link rel=&quot;stylesheet&quot; href=&quot;https://cdn.jsdelivr.net/npm/leaflet@1.9.3/dist/leaflet.css&quot;/&gt;\n",
              "    &lt;link rel=&quot;stylesheet&quot; href=&quot;https://cdn.jsdelivr.net/npm/bootstrap@5.2.2/dist/css/bootstrap.min.css&quot;/&gt;\n",
              "    &lt;link rel=&quot;stylesheet&quot; href=&quot;https://netdna.bootstrapcdn.com/bootstrap/3.0.0/css/bootstrap-glyphicons.css&quot;/&gt;\n",
              "    &lt;link rel=&quot;stylesheet&quot; href=&quot;https://cdn.jsdelivr.net/npm/@fortawesome/fontawesome-free@6.2.0/css/all.min.css&quot;/&gt;\n",
              "    &lt;link rel=&quot;stylesheet&quot; href=&quot;https://cdnjs.cloudflare.com/ajax/libs/Leaflet.awesome-markers/2.0.2/leaflet.awesome-markers.css&quot;/&gt;\n",
              "    &lt;link rel=&quot;stylesheet&quot; href=&quot;https://cdn.jsdelivr.net/gh/python-visualization/folium/folium/templates/leaflet.awesome.rotate.min.css&quot;/&gt;\n",
              "    \n",
              "            &lt;meta name=&quot;viewport&quot; content=&quot;width=device-width,\n",
              "                initial-scale=1.0, maximum-scale=1.0, user-scalable=no&quot; /&gt;\n",
              "            &lt;style&gt;\n",
              "                #map_4064c990f9a18b3b79fedad8eecdcba0 {\n",
              "                    position: relative;\n",
              "                    width: 100.0%;\n",
              "                    height: 100.0%;\n",
              "                    left: 0.0%;\n",
              "                    top: 0.0%;\n",
              "                }\n",
              "                .leaflet-container { font-size: 1rem; }\n",
              "            &lt;/style&gt;\n",
              "\n",
              "            &lt;style&gt;html, body {\n",
              "                width: 100%;\n",
              "                height: 100%;\n",
              "                margin: 0;\n",
              "                padding: 0;\n",
              "            }\n",
              "            &lt;/style&gt;\n",
              "\n",
              "            &lt;style&gt;#map {\n",
              "                position:absolute;\n",
              "                top:0;\n",
              "                bottom:0;\n",
              "                right:0;\n",
              "                left:0;\n",
              "                }\n",
              "            &lt;/style&gt;\n",
              "\n",
              "            &lt;script&gt;\n",
              "                L_NO_TOUCH = false;\n",
              "                L_DISABLE_3D = false;\n",
              "            &lt;/script&gt;\n",
              "\n",
              "        \n",
              "&lt;/head&gt;\n",
              "&lt;body&gt;\n",
              "    \n",
              "    \n",
              "            &lt;div class=&quot;folium-map&quot; id=&quot;map_4064c990f9a18b3b79fedad8eecdcba0&quot; &gt;&lt;/div&gt;\n",
              "        \n",
              "&lt;/body&gt;\n",
              "&lt;script&gt;\n",
              "    \n",
              "    \n",
              "            var map_4064c990f9a18b3b79fedad8eecdcba0 = L.map(\n",
              "                &quot;map_4064c990f9a18b3b79fedad8eecdcba0&quot;,\n",
              "                {\n",
              "                    center: [29.559684888503615, -95.0830971930759],\n",
              "                    crs: L.CRS.EPSG3857,\n",
              "                    ...{\n",
              "  &quot;zoom&quot;: 5,\n",
              "  &quot;zoomControl&quot;: true,\n",
              "  &quot;preferCanvas&quot;: false,\n",
              "}\n",
              "\n",
              "                }\n",
              "            );\n",
              "\n",
              "            \n",
              "\n",
              "        \n",
              "    \n",
              "            var tile_layer_bcef27bb91c47ac0d17332ee3bc5908d = L.tileLayer(\n",
              "                &quot;https://tile.openstreetmap.org/{z}/{x}/{y}.png&quot;,\n",
              "                {\n",
              "  &quot;minZoom&quot;: 0,\n",
              "  &quot;maxZoom&quot;: 19,\n",
              "  &quot;maxNativeZoom&quot;: 19,\n",
              "  &quot;noWrap&quot;: false,\n",
              "  &quot;attribution&quot;: &quot;\\u0026copy; \\u003ca href=\\&quot;https://www.openstreetmap.org/copyright\\&quot;\\u003eOpenStreetMap\\u003c/a\\u003e contributors&quot;,\n",
              "  &quot;subdomains&quot;: &quot;abc&quot;,\n",
              "  &quot;detectRetina&quot;: false,\n",
              "  &quot;tms&quot;: false,\n",
              "  &quot;opacity&quot;: 1,\n",
              "}\n",
              "\n",
              "            );\n",
              "        \n",
              "    \n",
              "            tile_layer_bcef27bb91c47ac0d17332ee3bc5908d.addTo(map_4064c990f9a18b3b79fedad8eecdcba0);\n",
              "        \n",
              "    \n",
              "            var circle_43c1f433c948eec7130c4a45888d84b1 = L.circle(\n",
              "                [28.56230197, -80.57735648],\n",
              "                {&quot;bubblingMouseEvents&quot;: true, &quot;color&quot;: &quot;#d35400&quot;, &quot;dashArray&quot;: null, &quot;dashOffset&quot;: null, &quot;fill&quot;: true, &quot;fillColor&quot;: &quot;#d35400&quot;, &quot;fillOpacity&quot;: 0.2, &quot;fillRule&quot;: &quot;evenodd&quot;, &quot;lineCap&quot;: &quot;round&quot;, &quot;lineJoin&quot;: &quot;round&quot;, &quot;opacity&quot;: 1.0, &quot;radius&quot;: 1000, &quot;stroke&quot;: true, &quot;weight&quot;: 3}\n",
              "            ).addTo(map_4064c990f9a18b3b79fedad8eecdcba0);\n",
              "        \n",
              "    \n",
              "        var popup_be75dc84d28b160791ab3bdac37775ab = L.popup({\n",
              "  &quot;maxWidth&quot;: &quot;100%&quot;,\n",
              "});\n",
              "\n",
              "        \n",
              "            \n",
              "                var html_47e746cd44b43c5aa5bf363472d5b7ee = $(`&lt;div id=&quot;html_47e746cd44b43c5aa5bf363472d5b7ee&quot; style=&quot;width: 100.0%; height: 100.0%;&quot;&gt;CCAFS LC-40&lt;/div&gt;`)[0];\n",
              "                popup_be75dc84d28b160791ab3bdac37775ab.setContent(html_47e746cd44b43c5aa5bf363472d5b7ee);\n",
              "            \n",
              "        \n",
              "\n",
              "        circle_43c1f433c948eec7130c4a45888d84b1.bindPopup(popup_be75dc84d28b160791ab3bdac37775ab)\n",
              "        ;\n",
              "\n",
              "        \n",
              "    \n",
              "    \n",
              "            var marker_abae769c7f9fd3672c7831ca5a421c66 = L.marker(\n",
              "                [28.56230197, -80.57735648],\n",
              "                {\n",
              "}\n",
              "            ).addTo(map_4064c990f9a18b3b79fedad8eecdcba0);\n",
              "        \n",
              "    \n",
              "            var div_icon_20181166a18bb047c37872e8276235e2 = L.divIcon({\n",
              "  &quot;html&quot;: &quot;\\u003cdiv style=\\&quot;font-size: 12; color:#d35400;\\&quot;\\u003e\\u003cb\\u003eNASA JSC\\u003c/b\\u003e\\u003c/div\\u003e&quot;,\n",
              "  &quot;iconSize&quot;: [20, 20],\n",
              "  &quot;iconAnchor&quot;: [0, 0],\n",
              "  &quot;className&quot;: &quot;empty&quot;,\n",
              "});\n",
              "        \n",
              "    \n",
              "                marker_abae769c7f9fd3672c7831ca5a421c66.setIcon(div_icon_20181166a18bb047c37872e8276235e2);\n",
              "            \n",
              "    \n",
              "            var circle_8ad001ea68957dda3dfc160a10bb8412 = L.circle(\n",
              "                [28.56319718, -80.57682003],\n",
              "                {&quot;bubblingMouseEvents&quot;: true, &quot;color&quot;: &quot;#d35400&quot;, &quot;dashArray&quot;: null, &quot;dashOffset&quot;: null, &quot;fill&quot;: true, &quot;fillColor&quot;: &quot;#d35400&quot;, &quot;fillOpacity&quot;: 0.2, &quot;fillRule&quot;: &quot;evenodd&quot;, &quot;lineCap&quot;: &quot;round&quot;, &quot;lineJoin&quot;: &quot;round&quot;, &quot;opacity&quot;: 1.0, &quot;radius&quot;: 1000, &quot;stroke&quot;: true, &quot;weight&quot;: 3}\n",
              "            ).addTo(map_4064c990f9a18b3b79fedad8eecdcba0);\n",
              "        \n",
              "    \n",
              "        var popup_10b83f201dd7fe26e07a810ab28461a0 = L.popup({\n",
              "  &quot;maxWidth&quot;: &quot;100%&quot;,\n",
              "});\n",
              "\n",
              "        \n",
              "            \n",
              "                var html_05003156ecf1c209e4be3baa9b800ebc = $(`&lt;div id=&quot;html_05003156ecf1c209e4be3baa9b800ebc&quot; style=&quot;width: 100.0%; height: 100.0%;&quot;&gt;CCAFS SLC-40&lt;/div&gt;`)[0];\n",
              "                popup_10b83f201dd7fe26e07a810ab28461a0.setContent(html_05003156ecf1c209e4be3baa9b800ebc);\n",
              "            \n",
              "        \n",
              "\n",
              "        circle_8ad001ea68957dda3dfc160a10bb8412.bindPopup(popup_10b83f201dd7fe26e07a810ab28461a0)\n",
              "        ;\n",
              "\n",
              "        \n",
              "    \n",
              "    \n",
              "            var marker_881091f4e1a5638a91317e22cbb825ae = L.marker(\n",
              "                [28.56319718, -80.57682003],\n",
              "                {\n",
              "}\n",
              "            ).addTo(map_4064c990f9a18b3b79fedad8eecdcba0);\n",
              "        \n",
              "    \n",
              "            var div_icon_1d0325790aba034d3275cb0dfef12c6e = L.divIcon({\n",
              "  &quot;html&quot;: &quot;\\u003cdiv style=\\&quot;font-size: 12; color:#d35400;\\&quot;\\u003e\\u003cb\\u003eNASA JSC\\u003c/b\\u003e\\u003c/div\\u003e&quot;,\n",
              "  &quot;iconSize&quot;: [20, 20],\n",
              "  &quot;iconAnchor&quot;: [0, 0],\n",
              "  &quot;className&quot;: &quot;empty&quot;,\n",
              "});\n",
              "        \n",
              "    \n",
              "                marker_881091f4e1a5638a91317e22cbb825ae.setIcon(div_icon_1d0325790aba034d3275cb0dfef12c6e);\n",
              "            \n",
              "    \n",
              "            var circle_c8b9a293992b649970acde772c050f28 = L.circle(\n",
              "                [28.57325457, -80.64689529],\n",
              "                {&quot;bubblingMouseEvents&quot;: true, &quot;color&quot;: &quot;#d35400&quot;, &quot;dashArray&quot;: null, &quot;dashOffset&quot;: null, &quot;fill&quot;: true, &quot;fillColor&quot;: &quot;#d35400&quot;, &quot;fillOpacity&quot;: 0.2, &quot;fillRule&quot;: &quot;evenodd&quot;, &quot;lineCap&quot;: &quot;round&quot;, &quot;lineJoin&quot;: &quot;round&quot;, &quot;opacity&quot;: 1.0, &quot;radius&quot;: 1000, &quot;stroke&quot;: true, &quot;weight&quot;: 3}\n",
              "            ).addTo(map_4064c990f9a18b3b79fedad8eecdcba0);\n",
              "        \n",
              "    \n",
              "        var popup_4d122e596ee6ce461089d712f23dd233 = L.popup({\n",
              "  &quot;maxWidth&quot;: &quot;100%&quot;,\n",
              "});\n",
              "\n",
              "        \n",
              "            \n",
              "                var html_691814a0615e48a4ad38bf2f6d09b60c = $(`&lt;div id=&quot;html_691814a0615e48a4ad38bf2f6d09b60c&quot; style=&quot;width: 100.0%; height: 100.0%;&quot;&gt;KSC LC-39A&lt;/div&gt;`)[0];\n",
              "                popup_4d122e596ee6ce461089d712f23dd233.setContent(html_691814a0615e48a4ad38bf2f6d09b60c);\n",
              "            \n",
              "        \n",
              "\n",
              "        circle_c8b9a293992b649970acde772c050f28.bindPopup(popup_4d122e596ee6ce461089d712f23dd233)\n",
              "        ;\n",
              "\n",
              "        \n",
              "    \n",
              "    \n",
              "            var marker_4ca76b483a54b1e8d7686858a424eafe = L.marker(\n",
              "                [28.57325457, -80.64689529],\n",
              "                {\n",
              "}\n",
              "            ).addTo(map_4064c990f9a18b3b79fedad8eecdcba0);\n",
              "        \n",
              "    \n",
              "            var div_icon_5e2c7cd25689d961b4a44c0c95b6a2cc = L.divIcon({\n",
              "  &quot;html&quot;: &quot;\\u003cdiv style=\\&quot;font-size: 12; color:#d35400;\\&quot;\\u003e\\u003cb\\u003eNASA JSC\\u003c/b\\u003e\\u003c/div\\u003e&quot;,\n",
              "  &quot;iconSize&quot;: [20, 20],\n",
              "  &quot;iconAnchor&quot;: [0, 0],\n",
              "  &quot;className&quot;: &quot;empty&quot;,\n",
              "});\n",
              "        \n",
              "    \n",
              "                marker_4ca76b483a54b1e8d7686858a424eafe.setIcon(div_icon_5e2c7cd25689d961b4a44c0c95b6a2cc);\n",
              "            \n",
              "    \n",
              "            var circle_e6513ecf239560dd8ad703fe53c7eb4a = L.circle(\n",
              "                [34.63283416, -120.6107455],\n",
              "                {&quot;bubblingMouseEvents&quot;: true, &quot;color&quot;: &quot;#d35400&quot;, &quot;dashArray&quot;: null, &quot;dashOffset&quot;: null, &quot;fill&quot;: true, &quot;fillColor&quot;: &quot;#d35400&quot;, &quot;fillOpacity&quot;: 0.2, &quot;fillRule&quot;: &quot;evenodd&quot;, &quot;lineCap&quot;: &quot;round&quot;, &quot;lineJoin&quot;: &quot;round&quot;, &quot;opacity&quot;: 1.0, &quot;radius&quot;: 1000, &quot;stroke&quot;: true, &quot;weight&quot;: 3}\n",
              "            ).addTo(map_4064c990f9a18b3b79fedad8eecdcba0);\n",
              "        \n",
              "    \n",
              "        var popup_248dc67a8e0713aba277686cfb22cbc6 = L.popup({\n",
              "  &quot;maxWidth&quot;: &quot;100%&quot;,\n",
              "});\n",
              "\n",
              "        \n",
              "            \n",
              "                var html_c539dc03b0620dbc18e95fc0c6aaa27b = $(`&lt;div id=&quot;html_c539dc03b0620dbc18e95fc0c6aaa27b&quot; style=&quot;width: 100.0%; height: 100.0%;&quot;&gt;VAFB SLC-4E&lt;/div&gt;`)[0];\n",
              "                popup_248dc67a8e0713aba277686cfb22cbc6.setContent(html_c539dc03b0620dbc18e95fc0c6aaa27b);\n",
              "            \n",
              "        \n",
              "\n",
              "        circle_e6513ecf239560dd8ad703fe53c7eb4a.bindPopup(popup_248dc67a8e0713aba277686cfb22cbc6)\n",
              "        ;\n",
              "\n",
              "        \n",
              "    \n",
              "    \n",
              "            var marker_7cfb624850f9d43b53dec1cf0bde9f82 = L.marker(\n",
              "                [34.63283416, -120.6107455],\n",
              "                {\n",
              "}\n",
              "            ).addTo(map_4064c990f9a18b3b79fedad8eecdcba0);\n",
              "        \n",
              "    \n",
              "            var div_icon_0fd011092ae9e1faf925e014d10fae2a = L.divIcon({\n",
              "  &quot;html&quot;: &quot;\\u003cdiv style=\\&quot;font-size: 12; color:#d35400;\\&quot;\\u003e\\u003cb\\u003eNASA JSC\\u003c/b\\u003e\\u003c/div\\u003e&quot;,\n",
              "  &quot;iconSize&quot;: [20, 20],\n",
              "  &quot;iconAnchor&quot;: [0, 0],\n",
              "  &quot;className&quot;: &quot;empty&quot;,\n",
              "});\n",
              "        \n",
              "    \n",
              "                marker_7cfb624850f9d43b53dec1cf0bde9f82.setIcon(div_icon_0fd011092ae9e1faf925e014d10fae2a);\n",
              "            \n",
              "&lt;/script&gt;\n",
              "&lt;/html&gt;\" style=\"position:absolute;width:100%;height:100%;left:0;top:0;border:none !important;\" allowfullscreen webkitallowfullscreen mozallowfullscreen></iframe></div></div>"
            ],
            "text/plain": [
              "<folium.folium.Map at 0x70b196ee3a10>"
            ]
          },
          "execution_count": 19,
          "metadata": {},
          "output_type": "execute_result"
        }
      ],
      "source": [
        "# Initial the map\n",
        "site_map = folium.Map(location=nasa_coordinate, zoom_start=5)\n",
        "# For each launch site, add a Circle object based on its coordinate (Lat, Long) values. In addition, add Launch site name as a popup label\n",
        "for index, launch_site in launch_sites_df.iterrows():\n",
        "    coord = [launch_site[\"Lat\"], launch_site[\"Long\"]]\n",
        "    circle = folium.Circle(coord, radius=1000, color='#d35400', fill=True).add_child(folium.Popup(launch_site[\"Launch Site\"]))\n",
        "    marker = folium.map.Marker(\n",
        "        coord,\n",
        "        # Create an icon as a text label\n",
        "        icon=DivIcon(\n",
        "            icon_size=(20,20),\n",
        "            icon_anchor=(0,0),\n",
        "            html='<div style=\"font-size: 12; color:#d35400;\"><b>%s</b></div>' % 'NASA JSC',\n",
        "            )\n",
        "    )\n",
        "    site_map.add_child(circle)\n",
        "    site_map.add_child(marker)\n",
        "site_map"
      ]
    },
    {
      "cell_type": "markdown",
      "metadata": {},
      "source": [
        "The generated map with marked launch sites should look similar to the following:\n"
      ]
    },
    {
      "cell_type": "markdown",
      "metadata": {},
      "source": [
        "<center>\n",
        "    <img src=\"https://cf-courses-data.s3.us.cloud-object-storage.appdomain.cloud/IBM-DS0321EN-SkillsNetwork/labs/module_3/images/launch_site_markers.png\">\n",
        "</center>\n"
      ]
    },
    {
      "cell_type": "markdown",
      "metadata": {},
      "source": [
        "Now, you can explore the map by zoom-in/out the marked areas\n",
        ", and try to answer the following questions:\n",
        "\n",
        "*   Are all launch sites in proximity to the Equator line?\n",
        "*   Are all launch sites in very close proximity to the coast?\n",
        "\n",
        "Also please try to explain your findings.\n"
      ]
    },
    {
      "cell_type": "code",
      "execution_count": null,
      "metadata": {
        "trusted": true
      },
      "outputs": [],
      "source": [
        "# Task 2: Mark the success/failed launches for each site on the map\n"
      ]
    },
    {
      "cell_type": "markdown",
      "metadata": {},
      "source": [
        "Next, let's try to enhance the map by adding the launch outcomes for each site, and see which sites have high success rates.\n",
        "Recall that data frame spacex_df has detailed launch records, and the `class` column indicates if this launch was successful or not\n"
      ]
    },
    {
      "cell_type": "code",
      "execution_count": null,
      "metadata": {
        "trusted": true
      },
      "outputs": [],
      "source": [
        "spacex_df.tail(10)"
      ]
    },
    {
      "cell_type": "markdown",
      "metadata": {},
      "source": [
        "Next, let's create markers for all launch records.\n",
        "If a launch was successful `(class=1)`, then we use a green marker and if a launch was failed, we use a red marker `(class=0)`\n"
      ]
    },
    {
      "cell_type": "markdown",
      "metadata": {},
      "source": [
        "Note that a launch only happens in one of the four launch sites, which means many launch records will have the exact same coordinate. Marker clusters can be a good way to simplify a map containing many markers having the same coordinate.\n"
      ]
    },
    {
      "cell_type": "markdown",
      "metadata": {},
      "source": [
        "Let's first create a `MarkerCluster` object\n"
      ]
    },
    {
      "cell_type": "code",
      "execution_count": null,
      "metadata": {
        "trusted": true
      },
      "outputs": [],
      "source": [
        "marker_cluster = MarkerCluster()\n"
      ]
    },
    {
      "cell_type": "markdown",
      "metadata": {},
      "source": [
        "*TODO:* Create a new column in `spacex_df` dataframe called `marker_color` to store the marker colors based on the `class` value\n"
      ]
    },
    {
      "cell_type": "code",
      "execution_count": null,
      "metadata": {
        "trusted": true
      },
      "outputs": [],
      "source": [
        "\n",
        "# Apply a function to check the value of `class` column\n",
        "# If class=1, marker_color value will be green\n",
        "# If class=0, marker_color value will be red"
      ]
    },
    {
      "cell_type": "markdown",
      "metadata": {},
      "source": [
        "*TODO:* For each launch result in `spacex_df` data frame, add a `folium.Marker` to `marker_cluster`\n"
      ]
    },
    {
      "cell_type": "code",
      "execution_count": null,
      "metadata": {
        "trusted": true
      },
      "outputs": [],
      "source": [
        "# Add marker_cluster to current site_map\n",
        "site_map.add_child(marker_cluster)\n",
        "\n",
        "# for each row in spacex_df data frame\n",
        "# create a Marker object with its coordinate\n",
        "# and customize the Marker's icon property to indicate if this launch was successed or failed, \n",
        "# e.g., icon=folium.Icon(color='white', icon_color=row['marker_color']\n",
        "for index, record in spacex_df.iterrows():\n",
        "    # TODO: Create and add a Marker cluster to the site map\n",
        "    # marker = folium.Marker(...)\n",
        "    marker_cluster.add_child(marker)\n",
        "\n",
        "site_map"
      ]
    },
    {
      "cell_type": "markdown",
      "metadata": {},
      "source": [
        "Your updated map may look like the following screenshots:\n"
      ]
    },
    {
      "cell_type": "markdown",
      "metadata": {},
      "source": [
        "<center>\n",
        "    <img src=\"https://cf-courses-data.s3.us.cloud-object-storage.appdomain.cloud/IBM-DS0321EN-SkillsNetwork/labs/module_3/images/launch_site_marker_cluster.png\">\n",
        "</center>\n"
      ]
    },
    {
      "cell_type": "markdown",
      "metadata": {},
      "source": [
        "<center>\n",
        "    <img src=\"https://cf-courses-data.s3.us.cloud-object-storage.appdomain.cloud/IBM-DS0321EN-SkillsNetwork/labs/module_3/images/launch_site_marker_cluster_zoomed.png\">\n",
        "</center>\n"
      ]
    },
    {
      "cell_type": "markdown",
      "metadata": {},
      "source": [
        "From the color-labeled markers in marker clusters, you should be able to easily identify which launch sites have relatively high success rates.\n"
      ]
    },
    {
      "cell_type": "code",
      "execution_count": null,
      "metadata": {
        "trusted": true
      },
      "outputs": [],
      "source": [
        "# TASK 3: Calculate the distances between a launch site to its proximities\n"
      ]
    },
    {
      "cell_type": "markdown",
      "metadata": {},
      "source": [
        "Next, we need to explore and analyze the proximities of launch sites.\n"
      ]
    },
    {
      "cell_type": "markdown",
      "metadata": {},
      "source": [
        "Let's first add a `MousePosition` on the map to get coordinate for a mouse over a point on the map. As such, while you are exploring the map, you can easily find the coordinates of any points of interests (such as railway)\n"
      ]
    },
    {
      "cell_type": "code",
      "execution_count": null,
      "metadata": {
        "trusted": true
      },
      "outputs": [],
      "source": [
        "# Add Mouse Position to get the coordinate (Lat, Long) for a mouse over on the map\n",
        "formatter = \"function(num) {return L.Util.formatNum(num, 5);};\"\n",
        "mouse_position = MousePosition(\n",
        "    position='topright',\n",
        "    separator=' Long: ',\n",
        "    empty_string='NaN',\n",
        "    lng_first=False,\n",
        "    num_digits=20,\n",
        "    prefix='Lat:',\n",
        "    lat_formatter=formatter,\n",
        "    lng_formatter=formatter,\n",
        ")\n",
        "\n",
        "site_map.add_child(mouse_position)\n",
        "site_map"
      ]
    },
    {
      "cell_type": "markdown",
      "metadata": {},
      "source": [
        "Now zoom in to a launch site and explore its proximity to see if you can easily find any railway, highway, coastline, etc. Move your mouse to these points and mark down their coordinates (shown on the top-left) in order to the distance to the launch site.\n"
      ]
    },
    {
      "cell_type": "markdown",
      "metadata": {},
      "source": [
        "Now zoom in to a launch site and explore its proximity to see if you can easily find any railway, highway, coastline, etc. Move your mouse to these points and mark down their coordinates (shown on the top-left) in order to the distance to the launch site.\n"
      ]
    },
    {
      "cell_type": "code",
      "execution_count": null,
      "metadata": {
        "trusted": true
      },
      "outputs": [],
      "source": [
        "from math import sin, cos, sqrt, atan2, radians\n",
        "\n",
        "def calculate_distance(lat1, lon1, lat2, lon2):\n",
        "    # approximate radius of earth in km\n",
        "    R = 6373.0\n",
        "\n",
        "    lat1 = radians(lat1)\n",
        "    lon1 = radians(lon1)\n",
        "    lat2 = radians(lat2)\n",
        "    lon2 = radians(lon2)\n",
        "\n",
        "    dlon = lon2 - lon1\n",
        "    dlat = lat2 - lat1\n",
        "\n",
        "    a = sin(dlat / 2)**2 + cos(lat1) * cos(lat2) * sin(dlon / 2)**2\n",
        "    c = 2 * atan2(sqrt(a), sqrt(1 - a))\n",
        "\n",
        "    distance = R * c\n",
        "    return distance"
      ]
    },
    {
      "cell_type": "markdown",
      "metadata": {},
      "source": [
        "*TODO:* Mark down a point on the closest coastline using MousePosition and calculate the distance between the coastline point and the launch site.\n"
      ]
    },
    {
      "cell_type": "code",
      "execution_count": null,
      "metadata": {
        "trusted": true
      },
      "outputs": [],
      "source": [
        "# find coordinate of the closet coastline\n",
        "# e.g.,: Lat: 28.56367  Lon: -80.57163\n",
        "# distance_coastline = calculate_distance(launch_site_lat, launch_site_lon, coastline_lat, coastline_lon)"
      ]
    },
    {
      "cell_type": "code",
      "execution_count": null,
      "metadata": {
        "trusted": true
      },
      "outputs": [],
      "source": [
        "# Create and add a folium.Marker on your selected closest coastline point on the map\n",
        "# Display the distance between coastline point and launch site using the icon property \n",
        "# for example\n",
        "# distance_marker = folium.Marker(\n",
        "#    coordinate,\n",
        "#    icon=DivIcon(\n",
        "#        icon_size=(20,20),\n",
        "#        icon_anchor=(0,0),\n",
        "#        html='<div style=\"font-size: 12; color:#d35400;\"><b>%s</b></div>' % \"{:10.2f} KM\".format(distance),\n",
        "#        )\n",
        "#    )"
      ]
    },
    {
      "cell_type": "markdown",
      "metadata": {},
      "source": [
        "*TODO:* Draw a `PolyLine` between a launch site to the selected coastline point\n"
      ]
    },
    {
      "cell_type": "code",
      "execution_count": null,
      "metadata": {
        "trusted": true
      },
      "outputs": [],
      "source": [
        "# Create a `folium.PolyLine` object using the coastline coordinates and launch site coordinate\n",
        "# lines=folium.PolyLine(locations=coordinates, weight=1)\n",
        "site_map.add_child(lines)"
      ]
    },
    {
      "cell_type": "markdown",
      "metadata": {},
      "source": [
        "Your updated map with distance line should look like the following screenshot:\n"
      ]
    },
    {
      "cell_type": "markdown",
      "metadata": {},
      "source": [
        "<center>\n",
        "    <img src=\"https://cf-courses-data.s3.us.cloud-object-storage.appdomain.cloud/IBM-DS0321EN-SkillsNetwork/labs/module_3/images/launch_site_marker_distance.png\">\n",
        "</center>\n"
      ]
    },
    {
      "cell_type": "markdown",
      "metadata": {},
      "source": [
        "*TODO:* Similarly, you can draw a line betwee a launch site to its closest city, railway, highway, etc. You need to use `MousePosition` to find the their coordinates on the map first\n"
      ]
    },
    {
      "cell_type": "markdown",
      "metadata": {},
      "source": [
        "A railway map symbol may look like this:\n"
      ]
    },
    {
      "cell_type": "markdown",
      "metadata": {},
      "source": [
        "<center>\n",
        "    <img src=\"https://cf-courses-data.s3.us.cloud-object-storage.appdomain.cloud/IBM-DS0321EN-SkillsNetwork/labs/module_3/images/railway.png\">\n",
        "</center>\n"
      ]
    },
    {
      "cell_type": "markdown",
      "metadata": {},
      "source": [
        "A highway map symbol may look like this:\n"
      ]
    },
    {
      "cell_type": "markdown",
      "metadata": {},
      "source": [
        "<center>\n",
        "    <img src=\"https://cf-courses-data.s3.us.cloud-object-storage.appdomain.cloud/IBM-DS0321EN-SkillsNetwork/labs/module_3/images/highway.png\">\n",
        "</center>\n"
      ]
    },
    {
      "cell_type": "markdown",
      "metadata": {},
      "source": [
        "A city map symbol may look like this:\n"
      ]
    },
    {
      "cell_type": "markdown",
      "metadata": {},
      "source": [
        "<center>\n",
        "    <img src=\"https://cf-courses-data.s3.us.cloud-object-storage.appdomain.cloud/IBM-DS0321EN-SkillsNetwork/labs/module_3/images/city.png\">\n",
        "</center>\n"
      ]
    },
    {
      "cell_type": "code",
      "execution_count": null,
      "metadata": {
        "trusted": true
      },
      "outputs": [],
      "source": [
        "# Create a marker with distance to a closest city, railway, highway, etc.\n",
        "# Draw a line between the marker to the launch site\n"
      ]
    },
    {
      "cell_type": "code",
      "execution_count": null,
      "metadata": {
        "trusted": true
      },
      "outputs": [],
      "source": []
    },
    {
      "cell_type": "code",
      "execution_count": null,
      "metadata": {
        "trusted": true
      },
      "outputs": [],
      "source": []
    },
    {
      "cell_type": "markdown",
      "metadata": {},
      "source": [
        "After you plot distance lines to the proximities, you can answer the following questions easily:\n",
        "\n",
        "*   Are launch sites in close proximity to railways?\n",
        "*   Are launch sites in close proximity to highways?\n",
        "*   Are launch sites in close proximity to coastline?\n",
        "*   Do launch sites keep certain distance away from cities?\n",
        "\n",
        "Also please try to explain your findings.\n"
      ]
    },
    {
      "cell_type": "markdown",
      "metadata": {},
      "source": [
        "# Next Steps:\n",
        "\n",
        "Now you have discovered many interesting insights related to the launch sites' location using folium, in a very interactive way. Next, you will need to build a dashboard using Ploty Dash on detailed launch records.\n"
      ]
    },
    {
      "cell_type": "markdown",
      "metadata": {},
      "source": [
        "## Authors\n"
      ]
    },
    {
      "cell_type": "markdown",
      "metadata": {},
      "source": [
        "[Pratiksha Verma](https://www.linkedin.com/in/pratiksha-verma-6487561b1/)\n"
      ]
    },
    {
      "cell_type": "markdown",
      "metadata": {},
      "source": [
        "<!--## Change Log--!>\n"
      ]
    },
    {
      "cell_type": "markdown",
      "metadata": {},
      "source": [
        "<!--| Date (YYYY-MM-DD) | Version | Changed By      | Change Description      |\n",
        "| ----------------- | ------- | -------------   | ----------------------- |\n",
        "| 2022-11-09        | 1.0     | Pratiksha Verma | Converted initial version to Jupyterlite|--!>\n"
      ]
    },
    {
      "cell_type": "markdown",
      "metadata": {},
      "source": [
        "### <h3 align=\"center\"> IBM Corporation 2022. All rights reserved. <h3/>\n"
      ]
    }
  ],
  "metadata": {
    "kernelspec": {
      "display_name": "ns_project",
      "language": "python",
      "name": "python3"
    },
    "language_info": {
      "codemirror_mode": {
        "name": "ipython",
        "version": 3
      },
      "file_extension": ".py",
      "mimetype": "text/x-python",
      "name": "python",
      "nbconvert_exporter": "python",
      "pygments_lexer": "ipython3",
      "version": "3.12.3"
    },
    "prev_pub_hash": "0f9db842b41c859223722809f8be602f5df9334348bd206b11e3af58c30eb345"
  },
  "nbformat": 4,
  "nbformat_minor": 4
}
